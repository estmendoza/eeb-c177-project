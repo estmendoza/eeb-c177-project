{
 "cells": [
  {
   "cell_type": "markdown",
   "metadata": {},
   "source": [
    "## Part 1"
   ]
  },
  {
   "cell_type": "code",
   "execution_count": 3,
   "metadata": {},
   "outputs": [],
   "source": [
    "import numpy as np"
   ]
  },
  {
   "cell_type": "code",
   "execution_count": 4,
   "metadata": {},
   "outputs": [],
   "source": [
    "import pandas"
   ]
  },
  {
   "cell_type": "code",
   "execution_count": 243,
   "metadata": {},
   "outputs": [],
   "source": [
    "data = pandas.read_csv('new_data.csv')\n",
    "\n",
    "data['Group'].replace([1,2,3,4],['Layperson','Doctor','Nurse','Parliament'],inplace=True)\n",
    "data.to_csv('final_data.csv',index=False)\n",
    "\n",
    "data = 'final_data.csv'\n",
    "def numpy(pandas_data):\n",
    "    og_data = pandas.read_csv(pandas_data, delimiter=',')\n",
    "    new_data = og_data.to_numpy()\n",
    "    return (new_data)\n",
    "\n",
    "data = numpy(data)"
   ]
  },
  {
   "cell_type": "code",
   "execution_count": 244,
   "metadata": {},
   "outputs": [],
   "source": [
    "from collections import Counter\n",
    "\n",
    "def profession(data, person):\n",
    "    person_HArank = (data[:, [3,4]]).tolist()\n",
    "    HA5_people = person_HArank.count([person, 5.0])\n",
    "    person_HArank = [tuple(i) for i in person_HArank]\n",
    "    counts = Counter(x[0] for x in person_HArank)\n",
    "    total_people = counts[person]\n",
    "    percentage = HA5_people/total_people*100\n",
    "    return percentage"
   ]
  },
  {
   "cell_type": "code",
   "execution_count": 271,
   "metadata": {},
   "outputs": [
    {
     "data": {
      "image/png": "[encoded data removed]",
      "text/plain": [
       "<Figure size 432x288 with 1 Axes>"
      ]
     },
     "metadata": {},
     "output_type": "display_data"
    }
   ],
   "source": [
    "layperson = profession(data, 'Layperson')\n",
    "nurse = profession(data, 'Nurse')\n",
    "doctor = profession(data, 'Doctor')\n",
    "parliament = profession(data, 'Parliament')\n",
    "\n",
    "import matplotlib.pyplot as plt\n",
    "%matplotlib inline\n",
    "plt.style.use('ggplot')\n",
    "\n",
    "def plot_percentage_person(layperson, doctor, nurse, parliament):\n",
    "    x = ['Layperson', 'Doctor','Nurse','Parliament']\n",
    "    percent = [layperson, doctor, nurse, parliament]\n",
    "    x_pos = [i for i, _ in enumerate(x)]\n",
    "    \n",
    "    plt.bar(x_pos, percent, color='green')\n",
    "    plt.xlabel(\"Person\")\n",
    "    plt.ylabel(\"Percent\")\n",
    "    plt.title(\"Percent of professionals surveyed who classify Heart Attack \\n as a rank 5 disease on a scale of 1-5\")\n",
    "\n",
    "    plt.xticks(x_pos, x)\n",
    "\n",
    "    plt.show()\n",
    "    return\n",
    "plot_percentage_person(layperson, doctor, nurse, parliament)"
   ]
  },
  {
   "cell_type": "markdown",
   "metadata": {},
   "source": [
    "## Part 2"
   ]
  },
  {
   "cell_type": "code",
   "execution_count": 153,
   "metadata": {},
   "outputs": [
    {
     "name": "stdout",
     "output_type": "stream",
     "text": [
      "ID,Response Round,Questionnaire Version,Group,Myocardial InfarctionA,Myocardial InfarctionB,Chronic Fatigue SyndromeA,Chronic Fatigue SyndromeB,BaldnessA,BaldnessB,Lack of Sexual DesireA,Lack of Sexual DesireB,AlcoholismA,AlcoholismB,Premenstrual SyndromeA,Premenstrual SyndromeB,Panic DisorderA,Panic DisorderB,AnorexiaA,AnorexiaB,GriefA,GriefB,DeafnessA,DeafnessB,Erectile DysfunctionA,Erectile DysfunctionB,Motivational Deficiency DisorderA,Motivational Deficiency DisorderB,OsteoporosisA,OsteoporosisB,Gambling AddictionA,Gambling AddictionB,Tension HeadacheA,Tension HeadacheB,Work ExhaustionA,Work ExhaustionB,HIVAIDSA,HIVAIDSB,InfertilityA,InfertilityB,ADHDA,ADHDB,Prostate CancerA,Prostate CancerB,PneumoniaA,PneumoniaB,InsomniaA,InsomniaB,ObesityA,ObesityB,Drug AddictionA,Drug AddictionB,Male MenopauseA,Male MenopauseB,AgeingA,AgeingB,TranssexualismA,TranssexualismB,Alcoholic Liver CirrhosisA,Alcoholic Liver CirrhosisB,SchizophreniaA,SchizophreniaB,Restless Legs SyndromeA,Restless Legs SyndromeA.1,Age Related Muscle LossA,Age Related Muscle LossB,Adult Onset DiabetesA,Adult Onset DiabetesB,SmokingA,SmokingB,AutismA,AutismB,Nighttime VoidingA,Nighttime VoidingB,BulimiaA,BulimiaB,Generalized Anxiety DisorderA,Generalized Anxiety DisorderB,SleepApneaA,SleepApneaB,WrinklesA,WrinklesB,Elevated CholesterolA,Elevated CholesterolB,BreastCancerA,BreastCancerB,FibromyalgiaA,FibromyalgiaB,Elevated Blood PressureA,Elevated Blood PressureB,Dental CariesA,Dental CariesB,LungCancerA,LungCancerB,Female MenopauseA,Female MenopauseB,MalnutritionA,MalnutritionB,Irritable Bowel SyndromeA,Irritable Bowel SyndromeB,HomosexualityA,HomosexualityB,Refractive ErrorA,Refractive ErrorB,Lactose IntoleranceA,Lactose IntoleranceB,Down SyndromeA,Down SyndromeB,Personality DisorderA,Personality DisorderA.1,Overactive BladderA,Overactive BladderB,DepressionA,DepressionB,Juvenile DiabetesA,Juvenile DiabetesB,MalariaA,MalariaB,Social Anxiety DisorderA,Social Anxiety DisorderB,Premature EjaculationA,Premature EjaculationB,Hip FractureA,Hip FractureB,Excluded_Included\n",
      "1003,1,1,1,2.0,1.0,3.0,3.0,1.0,1.0,2.0,2.0,2.0,1.0,3.0,1.0,4.0,3.0,4.0,4.0,1.0,1.0,4.0,5.0,3.0,1.0,3.0,3.0,5.0,4.0,1.0,1.0,4.0,3.0,5.0,4.0,3.0,3.0,2.0,2.0,4.0,3.0,5.0,3.0,4.0,3.0,3.0,2.0,3.0,1.0,1.0,1.0,3.0,3.0,1.0,1.0,1.0,1.0,2.0,1.0,3.0,3.0,2.0,2.0,4.0,3.0,4.0,3.0,1.0,1.0,5.0,4.0,1.0,1.0,3.0,2.0,4.0,3.0,3.0,3.0,1.0,1.0,2.0,2.0,3.0,3.0,4.0,3.0,4.0,4.0,2.0,3.0,2.0,1.0,1.0,1.0,1.0,1.0,3.0,3.0,1.0,1.0,4.0,5.0,3.0,3.0,4.0,5.0,3.0,3.0,2.0,2.0,4.0,4.0,3.0,3.0,2.0,1.0,4.0,5.0,1.0,1.0,1.0,1.0,1\n"
     ]
    }
   ],
   "source": [
    "with open('new_data.csv') as f:\n",
    "    for i, line in enumerate(f):\n",
    "        print(line.strip())\n",
    "        if i >0:\n",
    "            break"
   ]
  },
  {
   "cell_type": "code",
   "execution_count": 272,
   "metadata": {},
   "outputs": [],
   "source": [
    "import csv\n",
    "\n",
    "og_data = 'final_data.csv'\n",
    "column_data = 'column_data.csv'\n",
    "\n",
    "with open(og_data) as fr:\n",
    "    reader = csv.DictReader(fr)\n",
    "    header = reader.fieldnames #extract headers\n",
    "    with open(column_data, 'w') as fw:\n",
    "        writer = csv.DictWriter(fw, fieldnames = header, delimiter = ',')\n",
    "        for row in reader:\n",
    "            if row['Group'] == 'Doctor': \n",
    "            #find doctor responses\n",
    "                if row['Myocardial InfarctionA'] == '5.0': \n",
    "                #that rated heart attack 5/5 as serious disease \n",
    "                    writer.writerow(row)\n",
    "                    #write to column_data\n",
    "            "
   ]
  },
  {
   "cell_type": "code",
   "execution_count": 273,
   "metadata": {},
   "outputs": [
    {
     "name": "stdout",
     "output_type": "stream",
     "text": [
      "566\n"
     ]
    }
   ],
   "source": [
    "occurences = len(open(column_data).readlines())\n",
    "print(occurences)\n",
    "#see number of occurences"
   ]
  },
  {
   "cell_type": "markdown",
   "metadata": {},
   "source": [
    "## Part 3"
   ]
  },
  {
   "cell_type": "code",
   "execution_count": 270,
   "metadata": {},
   "outputs": [],
   "source": [
    "import csv\n",
    "\n",
    "og_data = 'final_data.csv'\n",
    "column_data = 'myfile.txt'\n",
    "\n",
    "with open(og_data) as fr:\n",
    "    reader = csv.DictReader(fr) #make data as a dictionary\n",
    "    header = reader.fieldnames #header as keys\n",
    "    with open(column_data, 'w') as fw: #make new file writable\n",
    "        writer = csv.DictWriter(fw, fieldnames = header, delimiter = ',')\n",
    "        for row in reader: #look through rows\n",
    "            def num(person, disease, rank): #search terms\n",
    "                if row['Group'] == '{}'.format(person): #find a person\n",
    "                    if row['{}'.format(disease)] == '{}'.format(rank): #choose a disease and what ranking that person gives the disease\n",
    "                        writer.writerow(row) #write new data\n",
    "            num('Doctor', 'Myocardial InfarctionA', '4.0') #assign these values to a search \n",
    "            \n",
    "                        "
   ]
  },
  {
   "cell_type": "code",
   "execution_count": null,
   "metadata": {},
   "outputs": [],
   "source": []
  }
 ],
 "metadata": {
  "kernelspec": {
   "display_name": "Python 3",
   "language": "python",
   "name": "python3"
  },
  "language_info": {
   "codemirror_mode": {
    "name": "ipython",
    "version": 3
   },
   "file_extension": ".py",
   "mimetype": "text/x-python",
   "name": "python",
   "nbconvert_exporter": "python",
   "pygments_lexer": "ipython3",
   "version": "3.7.5"
  }
 },
 "nbformat": 4,
 "nbformat_minor": 2
}
