{
 "cells": [
  {
   "cell_type": "markdown",
   "metadata": {},
   "source": [
    "## Part 1"
   ]
  },
  {
   "cell_type": "code",
   "execution_count": 40,
   "metadata": {},
   "outputs": [],
   "source": [
    "import numpy as np"
   ]
  },
  {
   "cell_type": "code",
   "execution_count": 42,
   "metadata": {},
   "outputs": [],
   "source": [
    "import pandas"
   ]
  },
  {
   "cell_type": "code",
   "execution_count": 44,
   "metadata": {},
   "outputs": [],
   "source": [
    "data = pandas.read_csv('new_data.csv', delimiter=',')"
   ]
  },
  {
   "cell_type": "code",
   "execution_count": 45,
   "metadata": {},
   "outputs": [
    {
     "data": {
      "text/plain": [
       "(2504, 125)"
      ]
     },
     "execution_count": 45,
     "metadata": {},
     "output_type": "execute_result"
    }
   ],
   "source": [
    "data.shape"
   ]
  },
  {
   "cell_type": "code",
   "execution_count": 46,
   "metadata": {},
   "outputs": [
    {
     "data": {
      "text/plain": [
       "Index(['ID', 'Response Round', 'Questionnaire Version', 'Group',\n",
       "       'Myocardial InfarctionA', 'Myocardial InfarctionB',\n",
       "       'Chronic Fatigue SyndromeA', 'Chronic Fatigue SyndromeB', 'BaldnessA',\n",
       "       'BaldnessB',\n",
       "       ...\n",
       "       'Juvenile DiabetesB', 'MalariaA', 'MalariaB',\n",
       "       'Social Anxiety DisorderA', 'Social Anxiety DisorderB',\n",
       "       'Premature EjaculationA', 'Premature EjaculationB', 'Hip FractureA',\n",
       "       'Hip FractureB', 'Excluded_Included'],\n",
       "      dtype='object', length=125)"
      ]
     },
     "execution_count": 46,
     "metadata": {},
     "output_type": "execute_result"
    }
   ],
   "source": [
    "data.columns"
   ]
  },
  {
   "cell_type": "code",
   "execution_count": null,
   "metadata": {},
   "outputs": [],
   "source": []
  },
  {
   "cell_type": "code",
   "execution_count": null,
   "metadata": {},
   "outputs": [],
   "source": []
  },
  {
   "cell_type": "code",
   "execution_count": null,
   "metadata": {},
   "outputs": [],
   "source": []
  },
  {
   "cell_type": "code",
   "execution_count": null,
   "metadata": {},
   "outputs": [],
   "source": []
  },
  {
   "cell_type": "code",
   "execution_count": null,
   "metadata": {},
   "outputs": [],
   "source": []
  },
  {
   "cell_type": "markdown",
   "metadata": {},
   "source": [
    "## Part 2"
   ]
  },
  {
   "cell_type": "code",
   "execution_count": 26,
   "metadata": {},
   "outputs": [
    {
     "name": "stdout",
     "output_type": "stream",
     "text": [
      "ID,Response Round,Questionnaire Version,Group,Myocardial InfarctionA,Myocardial InfarctionB,Chronic Fatigue SyndromeA,Chronic Fatigue SyndromeB,BaldnessA,BaldnessB,Lack of Sexual DesireA,Lack of Sexual DesireB,AlcoholismA,AlcoholismB,Premenstrual SyndromeA,Premenstrual SyndromeB,Panic DisorderA,Panic DisorderB,AnorexiaA,AnorexiaB,GriefA,GriefB,DeafnessA,DeafnessB,Erectile DysfunctionA,Erectile DysfunctionB,Motivational Deficiency DisorderA,Motivational Deficiency DisorderB,OsteoporosisA,OsteoporosisB,Gambling AddictionA,Gambling AddictionB,Tension HeadacheA,Tension HeadacheB,Work ExhaustionA,Work ExhaustionB,HIVAIDSA,HIVAIDSB,InfertilityA,InfertilityB,ADHDA,ADHDB,Prostate CancerA,Prostate CancerB,PneumoniaA,PneumoniaB,InsomniaA,InsomniaB,ObesityA,ObesityB,Drug AddictionA,Drug AddictionB,Male MenopauseA,Male MenopauseB,AgeingA,AgeingB,TranssexualismA,TranssexualismB,Alcoholic Liver CirrhosisA,Alcoholic Liver CirrhosisB,SchizophreniaA,SchizophreniaB,Restless Legs SyndromeA,Restless Legs SyndromeA.1,Age Related Muscle LossA,Age Related Muscle LossB,Adult Onset DiabetesA,Adult Onset DiabetesB,SmokingA,SmokingB,AutismA,AutismB,Nighttime VoidingA,Nighttime VoidingB,BulimiaA,BulimiaB,Generalized Anxiety DisorderA,Generalized Anxiety DisorderB,SleepApneaA,SleepApneaB,WrinklesA,WrinklesB,Elevated CholesterolA,Elevated CholesterolB,BreastCancerA,BreastCancerB,FibromyalgiaA,FibromyalgiaB,Elevated Blood PressureA,Elevated Blood PressureB,Dental CariesA,Dental CariesB,LungCancerA,LungCancerB,Female MenopauseA,Female MenopauseB,MalnutritionA,MalnutritionB,Irritable Bowel SyndromeA,Irritable Bowel SyndromeB,HomosexualityA,HomosexualityB,Refractive ErrorA,Refractive ErrorB,Lactose IntoleranceA,Lactose IntoleranceB,Down SyndromeA,Down SyndromeB,Personality DisorderA,Personality DisorderA.1,Overactive BladderA,Overactive BladderB,DepressionA,DepressionB,Juvenile DiabetesA,Juvenile DiabetesB,MalariaA,MalariaB,Social Anxiety DisorderA,Social Anxiety DisorderB,Premature EjaculationA,Premature EjaculationB,Hip FractureA,Hip FractureB,Excluded_Included\n",
      "1003,1,1,1,2.0,1.0,3.0,3.0,1.0,1.0,2.0,2.0,2.0,1.0,3.0,1.0,4.0,3.0,4.0,4.0,1.0,1.0,4.0,5.0,3.0,1.0,3.0,3.0,5.0,4.0,1.0,1.0,4.0,3.0,5.0,4.0,3.0,3.0,2.0,2.0,4.0,3.0,5.0,3.0,4.0,3.0,3.0,2.0,3.0,1.0,1.0,1.0,3.0,3.0,1.0,1.0,1.0,1.0,2.0,1.0,3.0,3.0,2.0,2.0,4.0,3.0,4.0,3.0,1.0,1.0,5.0,4.0,1.0,1.0,3.0,2.0,4.0,3.0,3.0,3.0,1.0,1.0,2.0,2.0,3.0,3.0,4.0,3.0,4.0,4.0,2.0,3.0,2.0,1.0,1.0,1.0,1.0,1.0,3.0,3.0,1.0,1.0,4.0,5.0,3.0,3.0,4.0,5.0,3.0,3.0,2.0,2.0,4.0,4.0,3.0,3.0,2.0,1.0,4.0,5.0,1.0,1.0,1.0,1.0,1\n"
     ]
    }
   ],
   "source": [
    "with open('new_data.csv') as f:\n",
    "    for i, line in enumerate(f):\n",
    "        print(line.strip())\n",
    "        if i >0:\n",
    "            break"
   ]
  },
  {
   "cell_type": "code",
   "execution_count": 31,
   "metadata": {},
   "outputs": [],
   "source": [
    "og_data = 'new_data.csv'\n",
    "column_data = 'column_data.csv'\n",
    "\n",
    "with open(og_data) as fr:\n",
    "    reader = csv.DictReader(fr)\n",
    "    header = reader.fieldnames #extract headers\n",
    "    with open(column_data, 'w') as fw:\n",
    "        writer = csv.DictWriter(fw, fieldnames = header, delimiter = ',')\n",
    "        for row in reader:\n",
    "            if row['Group'] == '2': \n",
    "            #find doctor responses\n",
    "                if row['Myocardial InfarctionA'] == '4.0': \n",
    "                #that rated heart attack 4/5 as serious disease \n",
    "                    writer.writerow(row)\n",
    "                    #write to column_data\n",
    "            "
   ]
  },
  {
   "cell_type": "code",
   "execution_count": 38,
   "metadata": {},
   "outputs": [
    {
     "name": "stdout",
     "output_type": "stream",
     "text": [
      "2\n"
     ]
    }
   ],
   "source": [
    "occurences = len(open(column_data).readlines())\n",
    "print(occurences)\n",
    "#see number of occurences"
   ]
  },
  {
   "cell_type": "markdown",
   "metadata": {},
   "source": [
    "## Part 3"
   ]
  },
  {
   "cell_type": "code",
   "execution_count": null,
   "metadata": {},
   "outputs": [],
   "source": [
    "in_data = 'new_data.csv'\n",
    "out_data = 'out_data.txt' \n",
    "\n",
    "def data(in_data, out_data):\n",
    "    "
   ]
  }
 ],
 "metadata": {
  "kernelspec": {
   "display_name": "Python 3",
   "language": "python",
   "name": "python3"
  },
  "language_info": {
   "codemirror_mode": {
    "name": "ipython",
    "version": 3
   },
   "file_extension": ".py",
   "mimetype": "text/x-python",
   "name": "python",
   "nbconvert_exporter": "python",
   "pygments_lexer": "ipython3",
   "version": "3.7.5"
  }
 },
 "nbformat": 4,
 "nbformat_minor": 2
}
