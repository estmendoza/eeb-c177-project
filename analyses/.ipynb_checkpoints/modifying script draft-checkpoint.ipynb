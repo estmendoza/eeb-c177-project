{
 "cells": [
  {
   "cell_type": "code",
   "execution_count": 45,
   "metadata": {},
   "outputs": [],
   "source": [
    "import numpy as np\n",
    "import pandas\n",
    "import os\n",
    "from collections import Counter\n",
    "datapath = \"/home/eebc177student/Developer/repos/eeb-c177-project/analyses\"\n",
    "directory = '/home/eebc177student/Developer/repos/eeb-c177-project/analyses'\n",
    "os.chdir(directory)"
   ]
  },
  {
   "cell_type": "code",
   "execution_count": 46,
   "metadata": {},
   "outputs": [],
   "source": [
    "#A = is X a disease (rank from 1-5)\n",
    "#B = should public funding be used for X (rank 1-5)\n",
    "import csv\n",
    "import re\n",
    "data = pandas.read_csv('final_data.csv')\n",
    "data = data.rename(columns={'Restless Legs SyndromeA.1':'Restless Legs SyndromeB', 'Personality DisorderA.1':'Personality DisorderB'})\n",
    "columns = list(data.columns)\n",
    "columns = columns[4:-1]"
   ]
  },
  {
   "cell_type": "code",
   "execution_count": 47,
   "metadata": {},
   "outputs": [],
   "source": [
    "#data.drop(['ID', 'Response Round', 'Questionnaire Version', 'Excluded_Included'], axis = 1, inplace = True)\n",
    "#df.to_csv('project.csv', index = False)"
   ]
  },
  {
   "cell_type": "code",
   "execution_count": 48,
   "metadata": {},
   "outputs": [],
   "source": [
    "#no_letter = [i[:-1] for i in columns]\n",
    "#^remove A or B from the list of columns"
   ]
  },
  {
   "cell_type": "code",
   "execution_count": 49,
   "metadata": {},
   "outputs": [],
   "source": [
    "#Selecting \"states of being\" in the DSM5\n",
    "\n",
    "dsm5 = list(columns[i] for i in [6, 7, 8, 9, 10, 11, \n",
    "                                    12, 13, 14, 15, \n",
    "                                     20, 21, 22, 23, \n",
    "                                    26, 27, 36, 37, 42, \n",
    "                                    43, 46, 47, 56, 57, \n",
    "                                    58, 59, 66, 67, 70, \n",
    "                                    71, 72, 73, 74, 75, \n",
    "                                    104, 105, 108, 109, \n",
    "                                    114, 115, 116, 117])\n",
    "\n",
    "#add group column to dataframe\n",
    "#dsm5.insert(0,'Group')"
   ]
  },
  {
   "cell_type": "code",
   "execution_count": 50,
   "metadata": {},
   "outputs": [],
   "source": [
    "#find difference between lists\n",
    "def difference(list1, list2):\n",
    "    list_dif = [i for i in list1 +list2 \n",
    "               if i not in list1 or i not in list2]\n",
    "    return list_dif\n"
   ]
  },
  {
   "cell_type": "code",
   "execution_count": 51,
   "metadata": {},
   "outputs": [],
   "source": [
    "#Selecting \"states of being\" not in DSM5 \n",
    "#and putting them into a list\n",
    "\n",
    "non_dsm5 = difference(columns, dsm5)\n",
    "non_dsm5 = list(non_dsm5)"
   ]
  },
  {
   "cell_type": "code",
   "execution_count": 53,
   "metadata": {},
   "outputs": [],
   "source": [
    "#Select \"is X a disease\" responses\n",
    "\n",
    "regexA = re.compile(r'[\\w\\s]*[^A]A{1}$')\n",
    "columnsA = list(filter(regexA.match,columns))\n",
    "\n",
    "\n",
    "#Select \"should fould funding be allocated to manage X\" responses\n",
    "\n",
    "regexB = re.compile(r'[\\w\\s]*[^B]B{1}$')\n",
    "columnsB = list(filter(regexB.match,columns))"
   ]
  },
  {
   "cell_type": "code",
   "execution_count": 66,
   "metadata": {},
   "outputs": [],
   "source": [
    "from collections import defaultdict\n",
    "\n",
    "non_dsm5_keyA = list(filter(regexA.match,non_dsm5))\n",
    "#take A's not in the dsm\n",
    "\n",
    "dsm5_keyA = list(filter(regexA.match,dsm5))\n",
    "#take A's in the dsm\n",
    "\n",
    "no_dsm_dictA = {}\n",
    "no_dsm_dictA.update(dict.fromkeys(non_dsm5_keyA, 0))\n",
    "#give no dsm keys a value of 0\n",
    "\n",
    "dsm_dictA = {}\n",
    "dsm_dictA.update(dict.fromkeys(dsm5_keyA, 1))\n",
    "#give dsm a value of 1\n",
    "\n",
    "def merge(dict1, dict2):\n",
    "    res = {**dict1, **dict2}\n",
    "    return res\n",
    "#merge dictionaries \n",
    "\n",
    "dsm_values_dictA = merge(no_dsm_dictA, dsm_dictA)\n",
    "#dsm_values_dictA"
   ]
  },
  {
   "cell_type": "code",
   "execution_count": null,
   "metadata": {},
   "outputs": [],
   "source": []
  },
  {
   "cell_type": "code",
   "execution_count": null,
   "metadata": {},
   "outputs": [],
   "source": []
  },
  {
   "cell_type": "code",
   "execution_count": null,
   "metadata": {},
   "outputs": [],
   "source": []
  },
  {
   "cell_type": "code",
   "execution_count": null,
   "metadata": {},
   "outputs": [],
   "source": []
  },
  {
   "cell_type": "code",
   "execution_count": 68,
   "metadata": {},
   "outputs": [],
   "source": [
    "non_dsm5_keyB = list(filter(regexB.match,non_dsm5))\n",
    "#take B's not in the dsm\n",
    "\n",
    "dsm5_keyB = list(filter(regexB.match,dsm5))\n",
    "#take B's in the dsm\n",
    "\n",
    "no_dsm_dictB = {}\n",
    "no_dsm_dictB.update(dict.fromkeys(non_dsm5_keyB, 0))\n",
    "#give no dsm keys a value of 0\n",
    "\n",
    "dsm_dictB = {}\n",
    "dsm_dictB.update(dict.fromkeys(dsm5_keyB, 1))\n",
    "#give dsm a value of 1\n",
    "\n",
    "dsm_values_dictB = merge(no_dsm_dictB, dsm_dictB)\n",
    "#dsm_values_dictB"
   ]
  },
  {
   "cell_type": "code",
   "execution_count": null,
   "metadata": {},
   "outputs": [],
   "source": []
  },
  {
   "cell_type": "code",
   "execution_count": null,
   "metadata": {},
   "outputs": [],
   "source": []
  },
  {
   "cell_type": "code",
   "execution_count": 97,
   "metadata": {},
   "outputs": [
    {
     "name": "stdout",
     "output_type": "stream",
     "text": [
      "what disease do you want to compare?: hivaidsa\n",
      "Percent of participants that considered HIVAIDSA as a disease on a scale from 1-5: 5\n"
     ]
    },
    {
     "data": {
      "image/png": "[encoded data removed]",
      "text/plain": [
       "<Figure size 432x288 with 1 Axes>"
      ]
     },
     "metadata": {},
     "output_type": "display_data"
    }
   ],
   "source": [
    "dis = str(input(\"what disease do you want to compare?: \"))\n",
    "#ask what disease to evaluate\n",
    "dis = dis.upper()\n",
    "dis = dis.split()\n",
    "error = False\n",
    "for word in dis:\n",
    "    if word in columnsA:\n",
    "        pass\n",
    "    else:\n",
    "        error = True\n",
    "if error: print('Please enter a valid condition')\n",
    "else:\n",
    "    def listtostring(s):\n",
    "        str1 = \" \"\n",
    "        return(str1.join(s))\n",
    "    dis = listtostring(dis)\n",
    "    dataset = pandas.read_csv('final_data.csv')\n",
    "    df = pandas.DataFrame(dataset)\n",
    "    df = df[['Group', dis]]\n",
    "    #extract data columns for people surveyed, and disease selected by user\n",
    "    \n",
    "    from collections import Counter\n",
    "\n",
    "    classify = str(input('Percent of participants that considered {} as a disease on a scale from 1-5: '.format(dis)))\n",
    "    #find percent of people who classified X as a disease on a scale from 1-5\n",
    "    #choose a number on the scale\n",
    "    error = False\n",
    "    number = [str(i) for i in range(1,6)]\n",
    "    #number = map(str, range(1, 6))\n",
    "    for rank in classify:\n",
    "        if rank in number:\n",
    "            pass\n",
    "        else:\n",
    "            error = True\n",
    "    if error: print('please enter a rank from 1-5')\n",
    "    else: \n",
    "        classify = float(classify)\n",
    "    \n",
    "    \n",
    "        def profession(data, person):\n",
    "            ranks = df.values.tolist() \n",
    "            #take ranks and demographics for selected condition into a list\n",
    "            tot_person_rank = ranks.count([person, classify]) \n",
    "            #count total number of X demographic that ranked X condition as X rank\n",
    "            ranks = [tuple(i) for i in ranks] \n",
    "            #tuple ranks and demographics for selected condition instead of list itmes\n",
    "            counts = Counter(x[0] for x in ranks) \n",
    "            #count number of people in each demographic that ranked X condition\n",
    "            total_people = counts[person] \n",
    "            #count people in X demographic that ranked X condition\n",
    "            percentage = tot_person_rank/total_people*100 \n",
    "            #calculate percentage of demographic who ranked X condition as X rank\n",
    "            return percentage\n",
    "\n",
    "        #different groups of people from data\n",
    "        layperson = profession(data, 'Layperson')\n",
    "        nurse = profession(data, 'Nurse')\n",
    "        doctor = profession(data, 'Doctor')\n",
    "        parliament = profession(data, 'Parliament')\n",
    "\n",
    "        import matplotlib.pyplot as plt\n",
    "        #%matplotlib inline\n",
    "        plt.style.use('ggplot')\n",
    "        #make a bar graph\n",
    "        def plot_percentage_person(layperson, doctor, nurse, parliament):\n",
    "            #function to plot people and percentages\n",
    "            x = ['Layperson', 'Doctor','Nurse','Parliament'] #people on the x axis\n",
    "            percent = [layperson, doctor, nurse, parliament] #percentages to be calculated per person\n",
    "            x_pos = [i for i, _ in enumerate(x)] #add groups of people\n",
    "        #bar graph settings\n",
    "            plt.bar(x_pos, percent, color='green')\n",
    "            plt.xlabel(\"Person\")\n",
    "            plt.ylabel(\"Percent\")\n",
    "            plt.title(\"Percent of professionals surveyed who classify {} \\n as a rank {} disease on a scale of 1-5\".format(dis, classify))\n",
    "\n",
    "\n",
    "\n",
    "            plt.xticks(x_pos, x)\n",
    "\n",
    "\n",
    "        #plot the graph\n",
    "            plt.show()\n",
    "            return\n",
    "        plot_percentage_person(layperson, doctor, nurse, parliament)\n",
    "        #use the function\n",
    "    "
   ]
  },
  {
   "cell_type": "code",
   "execution_count": 36,
   "metadata": {},
   "outputs": [],
   "source": [
    "#data[:1, [3,4]]"
   ]
  },
  {
   "cell_type": "code",
   "execution_count": 4,
   "metadata": {},
   "outputs": [],
   "source": [
    "#person_HArank = (data[:, [3,4]]).tolist()"
   ]
  },
  {
   "cell_type": "code",
   "execution_count": null,
   "metadata": {},
   "outputs": [],
   "source": []
  }
 ],
 "metadata": {
  "kernelspec": {
   "display_name": "Python 3",
   "language": "python",
   "name": "python3"
  },
  "language_info": {
   "codemirror_mode": {
    "name": "ipython",
    "version": 3
   },
   "file_extension": ".py",
   "mimetype": "text/x-python",
   "name": "python",
   "nbconvert_exporter": "python",
   "pygments_lexer": "ipython3",
   "version": "3.7.5"
  }
 },
 "nbformat": 4,
 "nbformat_minor": 2
}
